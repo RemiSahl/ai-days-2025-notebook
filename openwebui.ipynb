{
 "cells": [
  {
   "cell_type": "markdown",
   "id": "d3640cb2",
   "metadata": {},
   "source": [
    "# Open-webui demo\n",
    "\n",
    "## Step 1: Install the library"
   ]
  },
  {
   "cell_type": "code",
   "execution_count": null,
   "id": "4552175a",
   "metadata": {
    "vscode": {
     "languageId": "plaintext"
    }
   },
   "outputs": [],
   "source": [
    "! pip install --upgrade pip && pip install open-webui"
   ]
  },
  {
   "cell_type": "markdown",
   "id": "29058295",
   "metadata": {},
   "source": [
    "## Step 2: Print access information"
   ]
  },
  {
   "cell_type": "code",
   "execution_count": null,
   "id": "faee0e8a",
   "metadata": {
    "vscode": {
     "languageId": "plaintext"
    }
   },
   "outputs": [],
   "source": [
    "\n",
    "import os\n",
    "print(f\"https://{os.environ['NOTEBOOK_ID']}-5000.{os.environ['NOTEBOOK_HOST']}\")\n"
   ]
  },
  {
   "cell_type": "markdown",
   "id": "7b6d96e6",
   "metadata": {},
   "source": [
    "## Step 3: Boot the server"
   ]
  },
  {
   "cell_type": "code",
   "execution_count": null,
   "id": "24e4265c",
   "metadata": {
    "vscode": {
     "languageId": "plaintext"
    }
   },
   "outputs": [],
   "source": [
    "! open-webui serve --port 8000"
   ]
  }
 ],
 "metadata": {
  "language_info": {
   "name": "python"
  }
 },
 "nbformat": 4,
 "nbformat_minor": 5
}
